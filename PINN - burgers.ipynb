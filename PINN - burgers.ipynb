{
 "cells": [
  {
   "cell_type": "code",
   "execution_count": 1,
   "id": "3fbc8bbc",
   "metadata": {},
   "outputs": [],
   "source": [
    "import torch\n",
    "import torch.autograd as autograd         \n",
    "from torch import Tensor                  \n",
    "import torch.nn as nn                     \n",
    "import torch.optim as optim\n",
    "import matplotlib.pyplot as plt\n",
    "import matplotlib.gridspec as gridspec\n",
    "from mpl_toolkits.axes_grid1 import make_axes_locatable\n",
    "from mpl_toolkits.mplot3d import Axes3D\n",
    "import matplotlib.ticker\n",
    "from sklearn.model_selection import train_test_split\n",
    "\n",
    "import numpy as np\n",
    "import time\n",
    "from pyDOE import lhs         \n",
    "import scipy.io"
   ]
  },
  {
   "cell_type": "code",
   "execution_count": 2,
   "id": "d92392de",
   "metadata": {},
   "outputs": [
    {
     "name": "stdout",
     "output_type": "stream",
     "text": [
      "cpu\n"
     ]
    }
   ],
   "source": [
    "torch.set_default_dtype(torch.float)\n",
    "\n",
    "#PyTorch random number generator\n",
    "torch.manual_seed(1234)\n",
    "\n",
    "# Random number generators in other libraries\n",
    "np.random.seed(1234)\n",
    "\n",
    "# Device configuration\n",
    "device = torch.device('cuda' if torch.cuda.is_available() else 'cpu')\n",
    "\n",
    "print(device)\n",
    "\n",
    "if device == 'cuda': \n",
    "    print(torch.cuda.get_device_name())\n"
   ]
  },
  {
   "cell_type": "code",
   "execution_count": 27,
   "id": "1ee49e89",
   "metadata": {},
   "outputs": [],
   "source": [
    "def plot3D(x,t,y):\n",
    "    x_plot =x.squeeze(1) \n",
    "    t_plot =t.squeeze(1)\n",
    "    X,T= torch.meshgrid(x_plot,t_plot)\n",
    "    F_xt = y\n",
    "    fig,ax=plt.subplots(1,1)\n",
    "    cp = ax.contourf(T,X, F_xt,20,cmap=\"rainbow\")\n",
    "    fig.colorbar(cp) # Add a colorbar to a plot\n",
    "    ax.set_title('F(x,t)')\n",
    "    ax.set_xlabel('t')\n",
    "    ax.set_ylabel('x')\n",
    "    plt.show()\n",
    "    ax = plt.axes(projection='3d')\n",
    "    ax.plot_surface(T.numpy(), X.numpy(), F_xt.numpy(),cmap=\"rainbow\")\n",
    "    ax.set_xlabel('t')\n",
    "    ax.set_ylabel('x')\n",
    "    ax.set_zlabel('f(x,t)')\n",
    "    plt.show()\n",
    "    \n",
    "def plot3D_Matrix(x,t,y):\n",
    "    X,T= x,t\n",
    "    F_xt = y\n",
    "    fig,ax=plt.subplots(1,1)\n",
    "    cp = ax.contourf(T,X, F_xt,20,cmap=\"rainbow\")\n",
    "    fig.colorbar(cp) # Add a colorbar to a plot\n",
    "    ax.set_title('F(x,t)')\n",
    "    ax.set_xlabel('t')\n",
    "    ax.set_ylabel('x')\n",
    "    plt.show()\n",
    "    ax = plt.axes(projection='3d')\n",
    "    ax.plot_surface(T.numpy(), X.numpy(), F_xt.numpy(),cmap=\"rainbow\")\n",
    "    ax.set_xlabel('t')\n",
    "    ax.set_ylabel('x')\n",
    "    ax.set_zlabel('f(x,t)')\n",
    "    plt.show()\n",
    "    \n",
    "def solutionplot(u_pred,X_u_train,u_train):\n",
    "    \n",
    "    fig, ax = plt.subplots()\n",
    "    ax.axis('off')\n",
    "\n",
    "    gs0 = gridspec.GridSpec(1, 2)\n",
    "    gs0.update(top=1-0.06, bottom=1-1/3, left=0.15, right=0.85, wspace=0)\n",
    "    ax = plt.subplot(gs0[:, :])\n",
    "\n",
    "    h = ax.imshow(u_pred, interpolation='nearest', cmap='rainbow', \n",
    "                extent=[T.min(), T.max(), X.min(), X.max()], \n",
    "                origin='lower', aspect='auto')\n",
    "    divider = make_axes_locatable(ax)\n",
    "    cax = divider.append_axes(\"right\", size=\"5%\", pad=0.05)\n",
    "    fig.colorbar(h, cax=cax)\n",
    "    \n",
    "    ax.plot(X_u_train[:,1], X_u_train[:,0], 'kx', label = 'Data (%d points)' % (u_train.shape[0]), markersize = 4, clip_on = False)\n",
    "\n",
    "    line = np.linspace(x.min(), x.max(), 2)[:,None]\n",
    "    ax.plot(t[25]*np.ones((2,1)), line, 'w-', linewidth = 1)\n",
    "    ax.plot(t[50]*np.ones((2,1)), line, 'w-', linewidth = 1)\n",
    "    ax.plot(t[75]*np.ones((2,1)), line, 'w-', linewidth = 1)    \n",
    "\n",
    "    ax.set_xlabel('$t$')\n",
    "    ax.set_ylabel('$x$')\n",
    "    ax.legend(frameon=False, loc = 'best')\n",
    "    ax.set_title('$u(x,t)$', fontsize = 10)\n",
    "    \n",
    "    gs1 = gridspec.GridSpec(1, 3)\n",
    "    gs1.update(top=1-1/3, bottom=0, left=0.1, right=0.9, wspace=0.5)\n",
    "\n",
    "    ax = plt.subplot(gs1[0, 0])\n",
    "    ax.plot(x,usol.T[25,:], 'b-', linewidth = 2, label = 'Exact')       \n",
    "    ax.plot(x,u_pred.T[25,:], 'r--', linewidth = 2, label = 'Prediction')\n",
    "    ax.set_xlabel('$x$')\n",
    "    ax.set_ylabel('$u(x,t)$')    \n",
    "    ax.set_title('$t = 0.25s$', fontsize = 10)\n",
    "    ax.axis('square')\n",
    "    ax.set_xlim([-1.1,1.1])\n",
    "    ax.set_ylim([-1.1,1.1])\n",
    "\n",
    "    ax = plt.subplot(gs1[0, 1])\n",
    "    ax.plot(x,usol.T[50,:], 'b-', linewidth = 2, label = 'Exact')       \n",
    "    ax.plot(x,u_pred.T[50,:], 'r--', linewidth = 2, label = 'Prediction')\n",
    "    ax.set_xlabel('$x$')\n",
    "    ax.set_ylabel('$u(x,t)$')\n",
    "    ax.axis('square')\n",
    "    ax.set_xlim([-1.1,1.1])\n",
    "    ax.set_ylim([-1.1,1.1])\n",
    "    ax.set_title('$t = 0.50s$', fontsize = 10)\n",
    "    ax.legend(loc='upper center', bbox_to_anchor=(0.5, -0.35), ncol=5, frameon=False)\n",
    "\n",
    "    ax = plt.subplot(gs1[0, 2])\n",
    "    ax.plot(x,usol.T[75,:], 'b-', linewidth = 2, label = 'Exact')       \n",
    "    ax.plot(x,u_pred.T[75,:], 'r--', linewidth = 2, label = 'Prediction')\n",
    "    ax.set_xlabel('$x$')\n",
    "    ax.set_ylabel('$u(x,t)$')\n",
    "    ax.axis('square')\n",
    "    ax.set_xlim([-1.1,1.1])\n",
    "    ax.set_ylim([-1.1,1.1])    \n",
    "    ax.set_title('$t = 0.75s$', fontsize = 10)\n",
    "    \n",
    "    plt.savefig('Burgers.png',dpi = 500)"
   ]
  },
  {
   "cell_type": "code",
   "execution_count": 4,
   "id": "1e77c191",
   "metadata": {},
   "outputs": [
    {
     "name": "stderr",
     "output_type": "stream",
     "text": [
      "C:\\Users\\atuly\\anaconda3\\lib\\site-packages\\torch\\functional.py:478: UserWarning: torch.meshgrid: in an upcoming release, it will be required to pass the indexing argument. (Triggered internally at  C:\\actions-runner\\_work\\pytorch\\pytorch\\builder\\windows\\pytorch\\aten\\src\\ATen\\native\\TensorShape.cpp:2895.)\n",
      "  return _VF.meshgrid(tensors, **kwargs)  # type: ignore[attr-defined]\n"
     ]
    }
   ],
   "source": [
    "x=torch.linspace(-1,1,2000).view(-1,1)\n",
    "t=torch.linspace(0,1,1000).view(-1,1)\n",
    "\n",
    "X,T=torch.meshgrid(x.squeeze(1),t.squeeze(1))\n"
   ]
  },
  {
   "cell_type": "code",
   "execution_count": 5,
   "id": "eea48d3f",
   "metadata": {},
   "outputs": [
    {
     "name": "stdout",
     "output_type": "stream",
     "text": [
      "torch.Size([2000000, 2])\n"
     ]
    }
   ],
   "source": [
    "# Transform the mesh into a 2-column vector\n",
    "\n",
    "x_test=torch.hstack((X.transpose(1,0).flatten().reshape(-1,1),T.transpose(1,0).flatten().reshape(-1,1)))\n",
    "\n",
    "print(x_test.shape)"
   ]
  },
  {
   "cell_type": "code",
   "execution_count": 6,
   "id": "30d9319d",
   "metadata": {},
   "outputs": [],
   "source": [
    "#x(x,0)=sin(pix)->xmin=<x=<xmax; t=0\n",
    "left_X=torch.hstack((X[:,0].reshape(-1,1),T[:,0].reshape(-1,1))) # First column \n",
    "left_Y=torch.sin(np.pi*left_X[:,0]).unsqueeze(1)\n",
    "\n",
    "#x=min; tmin=<t=<max\n",
    "top_X=torch.hstack((X[0,:].reshape(-1,1),T[0,:].reshape(-1,1))) # First row \n",
    "top_Y=torch.zeros(top_X.shape[0],1)\n",
    "\n",
    "#x=max; 0=<t=<1\n",
    "bottom_X=torch.hstack((X[-1,:].reshape(-1,1),T[-1,:].reshape(-1,1))) # Last row \n",
    "bottom_Y=torch.zeros(bottom_X.shape[0],1)\n",
    "\n",
    "X_train=torch.vstack([left_X,bottom_X,top_X])\n",
    "Y_train=torch.vstack([left_Y,bottom_Y,top_Y])\n",
    "\n",
    "#Choose points of our available training data:\n",
    "idx=np.random.choice(X_train.shape[0],100,replace=False)\n",
    "X_train_Nu=X_train[idx,:]\n",
    "Y_train_Nu=Y_train[idx,:]\n",
    "\n",
    "lb=x_test[0] \n",
    "ub=x_test[-1]\n",
    "\n",
    "X_train_Nf = np.linspace(lb,ub,10000)\n",
    "X_train_Nf = torch.from_numpy(X_train_Nf)\n",
    "\n",
    "f_hat = torch.zeros(10000,1).to(device)"
   ]
  },
  {
   "cell_type": "code",
   "execution_count": 20,
   "id": "0ebce7a9",
   "metadata": {},
   "outputs": [],
   "source": [
    "class FCN(nn.Module):\n",
    "    def __init__(self,layers):\n",
    "        super().__init__() \n",
    "        self.activation = nn.Tanh()\n",
    "        self.loss_function = nn.MSELoss(reduction ='mean')\n",
    "        self.linears = nn.ModuleList([nn.Linear(layers[i], layers[i+1]) for i in range(len(layers)-1)]) \n",
    "        self.iter = 0 \n",
    "        for i in range(len(layers)-1):\n",
    "            nn.init.xavier_normal_(self.linears[i].weight.data, gain=1.0)\n",
    "            nn.init.zeros_(self.linears[i].bias.data)   \n",
    "    \n",
    "    def forward(self,x):\n",
    "        if torch.is_tensor(x) != True:         \n",
    "            x = torch.from_numpy(x)                \n",
    "        a = x.float()\n",
    "        for i in range(len(layers)-2):  \n",
    "            z = self.linears[i](a)              \n",
    "            a = self.activation(z)    \n",
    "        a = self.linears[-1](a)\n",
    "        return a\n",
    "    \n",
    "    def lossBC(self,x_BC,y_BC):\n",
    "            loss_BC=self.loss_function(self.forward(x_BC),y_BC)\n",
    "            return loss_BC\n",
    "\n",
    "    def lossPDE(self,x_PDE):\n",
    "        g = x_PDE.clone()\n",
    "                        \n",
    "        g.requires_grad = True\n",
    "        \n",
    "        u = self.forward(g)\n",
    "                \n",
    "        u_x_t = autograd.grad(u,g,torch.ones([x_PDE.shape[0], 1]).to(device), retain_graph=True, create_graph=True)[0]\n",
    "                                \n",
    "        u_xx_tt = autograd.grad(u_x_t,g,torch.ones(x_PDE.shape).to(device), create_graph=True)[0]\n",
    "                                                            \n",
    "        u_x = u_x_t[:,[0]]\n",
    "        \n",
    "        u_t = u_x_t[:,[1]]\n",
    "        \n",
    "        u_xx = u_xx_tt[:,[0]]\n",
    "                                        \n",
    "        f = u_t + (self.forward(g))*(u_x) - (0.01/np.pi)*u_xx \n",
    "        \n",
    "        loss_f = self.loss_function(f,f_hat)\n",
    "                \n",
    "        return loss_f\n",
    "    \n",
    "\n",
    "    def loss(self,x_BC,y_BC,x_pde):\n",
    "            loss_bc=self.lossBC(x_BC,y_BC)\n",
    "            loss_pde = self.lossPDE(x_pde)\n",
    "            return loss_bc + loss_pde\n"
   ]
  },
  {
   "cell_type": "code",
   "execution_count": 21,
   "id": "0653a190",
   "metadata": {},
   "outputs": [
    {
     "name": "stdout",
     "output_type": "stream",
     "text": [
      "FCN(\n",
      "  (activation): Tanh()\n",
      "  (loss_function): MSELoss()\n",
      "  (linears): ModuleList(\n",
      "    (0): Linear(in_features=2, out_features=32, bias=True)\n",
      "    (1): Linear(in_features=32, out_features=32, bias=True)\n",
      "    (2): Linear(in_features=32, out_features=1, bias=True)\n",
      "  )\n",
      ")\n"
     ]
    }
   ],
   "source": [
    "layers = np.array([2,32,32,1])\n",
    "\n",
    "PINN = FCN(layers)\n",
    "print(PINN)\n",
    "params = list(PINN.parameters())\n",
    "optimizer = torch.optim.Adam(PINN.parameters(),lr=1e-3,amsgrad=False)"
   ]
  },
  {
   "cell_type": "code",
   "execution_count": 22,
   "id": "710a41cb",
   "metadata": {},
   "outputs": [
    {
     "name": "stdout",
     "output_type": "stream",
     "text": [
      "Training Loss-----Test Loss\n"
     ]
    }
   ],
   "source": [
    "for i in range(20000):\n",
    "    if i==0:\n",
    "        print(\"Training Loss-----Test Loss\")\n",
    "    loss = PINN.loss(X_train_Nu,Y_train_Nu,X_train_Nf) # use mean squared error\n",
    "    optimizer.zero_grad()\n",
    "    loss.backward()\n",
    "    optimizer.step()"
   ]
  },
  {
   "cell_type": "code",
   "execution_count": 23,
   "id": "ba3eb055",
   "metadata": {},
   "outputs": [],
   "source": [
    "y1=PINN(x_test)"
   ]
  },
  {
   "cell_type": "code",
   "execution_count": 24,
   "id": "30c59959",
   "metadata": {},
   "outputs": [],
   "source": [
    "x1=x_test[:,0]\n",
    "t1=x_test[:,1]"
   ]
  },
  {
   "cell_type": "code",
   "execution_count": 36,
   "id": "ba1d2f7d",
   "metadata": {},
   "outputs": [],
   "source": [
    "arr_x1=x1.reshape(shape=X.shape).transpose(1,0).detach().cpu()\n",
    "arr_T1=t1.reshape(shape=X.shape).transpose(1,0).detach().cpu()\n",
    "arr_y1=y1.reshape(shape=X.shape).transpose(1,0).detach().cpu() "
   ]
  },
  {
   "cell_type": "code",
   "execution_count": 37,
   "id": "96c3e578",
   "metadata": {},
   "outputs": [
    {
     "data": {
      "image/png": "[encoded data removed]",
      "text/plain": [
       "<Figure size 432x288 with 2 Axes>"
      ]
     },
     "metadata": {
      "needs_background": "light"
     },
     "output_type": "display_data"
    },
    {
     "data": {
      "image/png": "[encoded data removed]",
      "text/plain": [
       "<Figure size 432x288 with 1 Axes>"
      ]
     },
     "metadata": {
      "needs_background": "light"
     },
     "output_type": "display_data"
    }
   ],
   "source": [
    "plot3D_Matrix(arr_x1,arr_T1,arr_y1)"
   ]
  },
  {
   "cell_type": "code",
   "execution_count": null,
   "id": "25c57639",
   "metadata": {},
   "outputs": [],
   "source": []
  },
  {
   "cell_type": "code",
   "execution_count": null,
   "id": "090c3275",
   "metadata": {},
   "outputs": [],
   "source": []
  }
 ],
 "metadata": {
  "kernelspec": {
   "display_name": "Python 3",
   "language": "python",
   "name": "python3"
  },
  "language_info": {
   "codemirror_mode": {
    "name": "ipython",
    "version": 3
   },
   "file_extension": ".py",
   "mimetype": "text/x-python",
   "name": "python",
   "nbconvert_exporter": "python",
   "pygments_lexer": "ipython3",
   "version": "3.8.8"
  }
 },
 "nbformat": 4,
 "nbformat_minor": 5
}
